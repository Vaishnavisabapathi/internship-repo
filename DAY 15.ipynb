{
 "cells": [
  {
   "cell_type": "markdown",
   "id": "39a2debd-b192-4723-b140-be4ac9d33e9a",
   "metadata": {},
   "source": [
    "# Chapter 4: Representing Data and Engineering Features\n",
    "\n",
    "In real-world applications, data is not always numeric. We often deal with **categorical (discrete)** features like color, department, or job title.\n",
    "\n",
    "**Key concepts:**\n",
    "- **Continuous features** = numeric (e.g., age, hours)\n",
    "- **Categorical features** = non-numeric (e.g., gender, education)\n",
    "- Machine learning models require numerical inputs → we must encode categorical data\n",
    "- Feature representation and transformation directly affect model performance\n"
   ]
  },
  {
   "cell_type": "code",
   "execution_count": 2,
   "id": "0c6405ac-0c1a-4f78-b51f-59ace24cd649",
   "metadata": {},
   "outputs": [],
   "source": [
    "# Imports and setup for data processing and modeling\n",
    "import pandas as pd\n",
    "from sklearn.linear_model import LogisticRegression\n",
    "from sklearn.model_selection import train_test_split\n",
    "\n"
   ]
  },
  {
   "cell_type": "markdown",
   "id": "09c0c038-06c5-483d-bb9d-d1380e328062",
   "metadata": {},
   "source": [
    "## Dataset Example: U.S. Adult Income Census (1994)\n",
    "\n",
    "Goal: Predict if income is **>50K** or **<=50K**\n",
    "\n",
    "**Features:**\n",
    "- Continuous: age, hours-per-week\n",
    "- Categorical: workclass, education, gender, occupation\n",
    "\n",
    "These categorical columns must be converted to numeric format for modeling.\n"
   ]
  },
  {
   "cell_type": "markdown",
   "id": "bc13029c-b7be-47da-b9d2-45e4ae25d26e",
   "metadata": {},
   "source": [
    "## One-Hot Encoding (Dummy Variables)\n",
    "\n",
    "Categorical features are converted into binary columns:\n",
    "- Example: `workclass = Private` becomes:\n",
    "  - workclass_Private = 1\n",
    "  - All other workclass_* columns = 0\n",
    "\n",
    "We use `pd.get_dummies()` in pandas to achieve this.\n"
   ]
  },
  {
   "cell_type": "code",
   "execution_count": 3,
   "id": "2d3a518b-4df7-4ee3-919d-799596242a4f",
   "metadata": {},
   "outputs": [],
   "source": [
    "# Load the dataset and select relevant columns\n",
    "data = pd.read_csv(\n",
    "    \"adult.data.txt\", header=None, index_col=False,\n",
    "    names=['age', 'workclass', 'fnlwgt', 'education', 'education-num',\n",
    "           'marital-status', 'occupation', 'relationship', 'race', 'gender',\n",
    "           'capital-gain', 'capital-loss', 'hours-per-week', 'native-country',\n",
    "           'income'])\n",
    "\n",
    "# Select subset of columns\n",
    "data = data[['age', 'workclass', 'education', 'gender', 'hours-per-week', 'occupation', 'income']]\n",
    "\n",
    "# One-hot encode categorical columns\n",
    "data_dummies = pd.get_dummies(data)\n",
    "\n",
    "# Separate features and target\n",
    "X = data_dummies.loc[:, 'age':'occupation_ Transport-moving'].values\n",
    "y = data_dummies['income_ >50K'].values\n"
   ]
  },
  {
   "cell_type": "code",
   "execution_count": 5,
   "id": "8437f7c6-9d2b-4025-855c-86aa5d02d6b1",
   "metadata": {},
   "outputs": [
    {
     "name": "stdout",
     "output_type": "stream",
     "text": [
      "Test accuracy: 0.81\n"
     ]
    }
   ],
   "source": [
    "from sklearn.preprocessing import StandardScaler\n",
    "\n",
    "scaler = StandardScaler()\n",
    "X_scaled = scaler.fit_transform(X)\n",
    "\n",
    "# Train-test split with scaled data\n",
    "X_train, X_test, y_train, y_test = train_test_split(X_scaled, y, random_state=0)\n",
    "\n",
    "logreg = LogisticRegression()\n",
    "logreg.fit(X_train, y_train)\n",
    "\n",
    "print(\"Test accuracy: {:.2f}\".format(logreg.score(X_test, y_test)))\n",
    "\n"
   ]
  },
  {
   "cell_type": "code",
   "execution_count": 6,
   "id": "72d97f47-d915-4e4f-8233-02896a80a2ae",
   "metadata": {},
   "outputs": [
    {
     "data": {
      "text/html": [
       "<div>\n",
       "<style scoped>\n",
       "    .dataframe tbody tr th:only-of-type {\n",
       "        vertical-align: middle;\n",
       "    }\n",
       "\n",
       "    .dataframe tbody tr th {\n",
       "        vertical-align: top;\n",
       "    }\n",
       "\n",
       "    .dataframe thead th {\n",
       "        text-align: right;\n",
       "    }\n",
       "</style>\n",
       "<table border=\"1\" class=\"dataframe\">\n",
       "  <thead>\n",
       "    <tr style=\"text-align: right;\">\n",
       "      <th></th>\n",
       "      <th>Integer Feature</th>\n",
       "      <th>Categorical Feature</th>\n",
       "    </tr>\n",
       "  </thead>\n",
       "  <tbody>\n",
       "    <tr>\n",
       "      <th>0</th>\n",
       "      <td>0</td>\n",
       "      <td>socks</td>\n",
       "    </tr>\n",
       "    <tr>\n",
       "      <th>1</th>\n",
       "      <td>1</td>\n",
       "      <td>fox</td>\n",
       "    </tr>\n",
       "    <tr>\n",
       "      <th>2</th>\n",
       "      <td>2</td>\n",
       "      <td>socks</td>\n",
       "    </tr>\n",
       "    <tr>\n",
       "      <th>3</th>\n",
       "      <td>1</td>\n",
       "      <td>box</td>\n",
       "    </tr>\n",
       "  </tbody>\n",
       "</table>\n",
       "</div>"
      ],
      "text/plain": [
       "   Integer Feature Categorical Feature\n",
       "0                0               socks\n",
       "1                1                 fox\n",
       "2                2               socks\n",
       "3                1                 box"
      ]
     },
     "metadata": {},
     "output_type": "display_data"
    }
   ],
   "source": [
    "# Create a DataFrame with both string and integer categorical data\n",
    "demo_df = pd.DataFrame({\n",
    "    'Integer Feature': [0, 1, 2, 1],\n",
    "    'Categorical Feature': ['socks', 'fox', 'socks', 'box']\n",
    "})\n",
    "display(demo_df)"
   ]
  },
  {
   "cell_type": "code",
   "execution_count": 7,
   "id": "af00478f-0450-41c7-8543-965d933a12c3",
   "metadata": {},
   "outputs": [
    {
     "data": {
      "text/html": [
       "<div>\n",
       "<style scoped>\n",
       "    .dataframe tbody tr th:only-of-type {\n",
       "        vertical-align: middle;\n",
       "    }\n",
       "\n",
       "    .dataframe tbody tr th {\n",
       "        vertical-align: top;\n",
       "    }\n",
       "\n",
       "    .dataframe thead th {\n",
       "        text-align: right;\n",
       "    }\n",
       "</style>\n",
       "<table border=\"1\" class=\"dataframe\">\n",
       "  <thead>\n",
       "    <tr style=\"text-align: right;\">\n",
       "      <th></th>\n",
       "      <th>Integer Feature</th>\n",
       "      <th>Categorical Feature_box</th>\n",
       "      <th>Categorical Feature_fox</th>\n",
       "      <th>Categorical Feature_socks</th>\n",
       "    </tr>\n",
       "  </thead>\n",
       "  <tbody>\n",
       "    <tr>\n",
       "      <th>0</th>\n",
       "      <td>0</td>\n",
       "      <td>False</td>\n",
       "      <td>False</td>\n",
       "      <td>True</td>\n",
       "    </tr>\n",
       "    <tr>\n",
       "      <th>1</th>\n",
       "      <td>1</td>\n",
       "      <td>False</td>\n",
       "      <td>True</td>\n",
       "      <td>False</td>\n",
       "    </tr>\n",
       "    <tr>\n",
       "      <th>2</th>\n",
       "      <td>2</td>\n",
       "      <td>False</td>\n",
       "      <td>False</td>\n",
       "      <td>True</td>\n",
       "    </tr>\n",
       "    <tr>\n",
       "      <th>3</th>\n",
       "      <td>1</td>\n",
       "      <td>True</td>\n",
       "      <td>False</td>\n",
       "      <td>False</td>\n",
       "    </tr>\n",
       "  </tbody>\n",
       "</table>\n",
       "</div>"
      ],
      "text/plain": [
       "   Integer Feature  Categorical Feature_box  Categorical Feature_fox  \\\n",
       "0                0                    False                    False   \n",
       "1                1                    False                     True   \n",
       "2                2                    False                    False   \n",
       "3                1                     True                    False   \n",
       "\n",
       "   Categorical Feature_socks  \n",
       "0                       True  \n",
       "1                      False  \n",
       "2                       True  \n",
       "3                      False  "
      ]
     },
     "metadata": {},
     "output_type": "display_data"
    }
   ],
   "source": [
    "# Automatically encodes only the string-based categorical column\n",
    "encoded_df = pd.get_dummies(demo_df)\n",
    "display(encoded_df)"
   ]
  },
  {
   "cell_type": "code",
   "execution_count": 8,
   "id": "a65f221e-af7a-44ee-bcd6-d067e2f858df",
   "metadata": {},
   "outputs": [
    {
     "data": {
      "text/html": [
       "<div>\n",
       "<style scoped>\n",
       "    .dataframe tbody tr th:only-of-type {\n",
       "        vertical-align: middle;\n",
       "    }\n",
       "\n",
       "    .dataframe tbody tr th {\n",
       "        vertical-align: top;\n",
       "    }\n",
       "\n",
       "    .dataframe thead th {\n",
       "        text-align: right;\n",
       "    }\n",
       "</style>\n",
       "<table border=\"1\" class=\"dataframe\">\n",
       "  <thead>\n",
       "    <tr style=\"text-align: right;\">\n",
       "      <th></th>\n",
       "      <th>Integer Feature_0</th>\n",
       "      <th>Integer Feature_1</th>\n",
       "      <th>Integer Feature_2</th>\n",
       "      <th>Categorical Feature_box</th>\n",
       "      <th>Categorical Feature_fox</th>\n",
       "      <th>Categorical Feature_socks</th>\n",
       "    </tr>\n",
       "  </thead>\n",
       "  <tbody>\n",
       "    <tr>\n",
       "      <th>0</th>\n",
       "      <td>True</td>\n",
       "      <td>False</td>\n",
       "      <td>False</td>\n",
       "      <td>False</td>\n",
       "      <td>False</td>\n",
       "      <td>True</td>\n",
       "    </tr>\n",
       "    <tr>\n",
       "      <th>1</th>\n",
       "      <td>False</td>\n",
       "      <td>True</td>\n",
       "      <td>False</td>\n",
       "      <td>False</td>\n",
       "      <td>True</td>\n",
       "      <td>False</td>\n",
       "    </tr>\n",
       "    <tr>\n",
       "      <th>2</th>\n",
       "      <td>False</td>\n",
       "      <td>False</td>\n",
       "      <td>True</td>\n",
       "      <td>False</td>\n",
       "      <td>False</td>\n",
       "      <td>True</td>\n",
       "    </tr>\n",
       "    <tr>\n",
       "      <th>3</th>\n",
       "      <td>False</td>\n",
       "      <td>True</td>\n",
       "      <td>False</td>\n",
       "      <td>True</td>\n",
       "      <td>False</td>\n",
       "      <td>False</td>\n",
       "    </tr>\n",
       "  </tbody>\n",
       "</table>\n",
       "</div>"
      ],
      "text/plain": [
       "   Integer Feature_0  Integer Feature_1  Integer Feature_2  \\\n",
       "0               True              False              False   \n",
       "1              False               True              False   \n",
       "2              False              False               True   \n",
       "3              False               True              False   \n",
       "\n",
       "   Categorical Feature_box  Categorical Feature_fox  Categorical Feature_socks  \n",
       "0                    False                    False                       True  \n",
       "1                    False                     True                      False  \n",
       "2                    False                    False                       True  \n",
       "3                     True                    False                      False  "
      ]
     },
     "metadata": {},
     "output_type": "display_data"
    }
   ],
   "source": [
    "# Convert the integer feature to string to treat it as categorical\n",
    "demo_df['Integer Feature'] = demo_df['Integer Feature'].astype(str)\n",
    "# Apply one-hot encoding to both columns explicitly\n",
    "full_encoded_df = pd.get_dummies(demo_df, columns=['Integer Feature', 'Categorical Feature'])\n",
    "display(full_encoded_df)"
   ]
  },
  {
   "cell_type": "code",
   "execution_count": 9,
   "id": "75cd9269-0bdc-4a71-a60c-e07a6dcdc680",
   "metadata": {},
   "outputs": [
    {
     "data": {
      "image/png": "[encoded data removed]",
      "text/plain": [
       "<Figure size 640x480 with 1 Axes>"
      ]
     },
     "metadata": {},
     "output_type": "display_data"
    }
   ],
   "source": [
    "from sklearn.linear_model import LinearRegression\n",
    "from sklearn.tree import DecisionTreeRegressor\n",
    "import numpy as np\n",
    "import matplotlib.pyplot as plt\n",
    "import mglearn\n",
    "\n",
    "# Create the dataset\n",
    "X, y = mglearn.datasets.make_wave(n_samples=100)\n",
    "line = np.linspace(-3, 3, 1000, endpoint=False).reshape(-1, 1)\n",
    "\n",
    "# Fit a Decision Tree Regressor\n",
    "reg_tree = DecisionTreeRegressor(min_samples_split=3).fit(X, y)\n",
    "plt.plot(line, reg_tree.predict(line), label=\"Decision Tree\")\n",
    "\n",
    "# Fit a Linear Regression model\n",
    "reg_linear = LinearRegression().fit(X, y)\n",
    "plt.plot(line, reg_linear.predict(line), label=\"Linear Regression\")\n",
    "\n",
    "# Plot original data\n",
    "plt.plot(X[:, 0], y, 'o', c='k')\n",
    "plt.ylabel(\"Regression output\")\n",
    "plt.xlabel(\"Input feature\")\n",
    "plt.legend(loc=\"best\")\n",
    "plt.title(\"Linear vs. Tree-Based Model\")\n",
    "plt.show()"
   ]
  },
  {
   "cell_type": "code",
   "execution_count": null,
   "id": "869fbbe0-8d8a-4ef1-99d5-76d4e73fefc3",
   "metadata": {},
   "outputs": [],
   "source": []
  }
 ],
 "metadata": {
  "kernelspec": {
   "display_name": "Python 3 (ipykernel)",
   "language": "python",
   "name": "python3"
  },
  "language_info": {
   "codemirror_mode": {
    "name": "ipython",
    "version": 3
   },
   "file_extension": ".py",
   "mimetype": "text/x-python",
   "name": "python",
   "nbconvert_exporter": "python",
   "pygments_lexer": "ipython3",
   "version": "3.12.5"
  }
 },
 "nbformat": 4,
 "nbformat_minor": 5
}
